{
 "cells": [
  {
   "cell_type": "code",
   "execution_count": 2,
   "metadata": {},
   "outputs": [],
   "source": [
    "from selenium import webdriver\n",
    "from selenium.webdriver.common.keys import Keys\n",
    "from selenium.webdriver.support.ui import Select\n",
    "import time\n",
    "\n",
    "driver = webdriver.Chrome(executable_path = '/Users/dachenghaidou/programming/python/selenium/chromedriver')\n",
    "driver.get('http://picture-upload.test/')\n",
    "time.sleep(2)\n",
    "driver.get('http://picture-upload.test/login')\n",
    "time.sleep(1)\n",
    "elem = driver.find_element_by_name('email')\n",
    "elem.send_keys('k-se03@selenium.jp')\n",
    "elem = driver.find_element_by_name('password')\n",
    "elem.send_keys('TestAg001')\n",
    "time.sleep(2)\n",
    "driver.find_element_by_class_name('btn-primary').click()\n",
    "\n",
    "\n"
   ]
  },
  {
   "cell_type": "code",
   "execution_count": null,
   "metadata": {},
   "outputs": [],
   "source": []
  }
 ],
 "metadata": {
  "kernelspec": {
   "display_name": "Python 3",
   "language": "python",
   "name": "python3"
  },
  "language_info": {
   "codemirror_mode": {
    "name": "ipython",
    "version": 3
   },
   "file_extension": ".py",
   "mimetype": "text/x-python",
   "name": "python",
   "nbconvert_exporter": "python",
   "pygments_lexer": "ipython3",
   "version": "3.8.1"
  }
 },
 "nbformat": 4,
 "nbformat_minor": 4
}
